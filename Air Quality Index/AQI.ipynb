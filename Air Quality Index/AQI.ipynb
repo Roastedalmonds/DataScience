{
 "cells": [
  {
   "cell_type": "code",
   "execution_count": 7,
   "metadata": {},
   "outputs": [],
   "source": [
    "import os\n",
    "import time\n",
    "import requests\n",
    "import pandas as pd\n",
    "import numpy as np\n",
    "import matplotlib.pyplot as plt\n",
    "import time\n",
    "import sys"
   ]
  },
  {
   "cell_type": "code",
   "execution_count": 12,
   "metadata": {},
   "outputs": [
    {
     "name": "stdout",
     "output_type": "stream",
     "text": [
      "Time Taken - 65.14721775054932\n"
     ]
    }
   ],
   "source": [
    "def retrieve_html():\n",
    "    for year in range(2013,2019):\n",
    "        for month in range(1,13):\n",
    "            if(month<10):\n",
    "                url=f\"https://en.tutiempo.net/climate/0{month}-{year}/ws-421820.html\"\n",
    "            else:\n",
    "                url=f\"https://en.tutiempo.net/climate/{month}-{year}/ws-421820.html\"\n",
    "            texts = requests.get(url)\n",
    "            text_utf = texts.text.encode('utf=8')\n",
    "        \n",
    "            if not os.path.exists(f'Data/Html_Data/{year}'):\n",
    "                os.makedirs(f'Data/Html_Data/{year}')\n",
    "            with open(f'Data/Html_Data/{year}/{month}.html','wb') as output:\n",
    "                output.write(text_utf)\n",
    "            sys.stdout.flush()\n",
    "\n",
    "if __name__ == \"__main__\":\n",
    "    start_time = time.time()\n",
    "    retrieve_html()\n",
    "    stop_time = time.time()\n",
    "    print(f'Time Taken - {stop_time - start_time}')\n",
    "                  "
   ]
  },
  {
   "cell_type": "code",
   "execution_count": null,
   "metadata": {},
   "outputs": [],
   "source": []
  }
 ],
 "metadata": {
  "kernelspec": {
   "display_name": "Python 3",
   "language": "python",
   "name": "python3"
  },
  "language_info": {
   "codemirror_mode": {
    "name": "ipython",
    "version": 3
   },
   "file_extension": ".py",
   "mimetype": "text/x-python",
   "name": "python",
   "nbconvert_exporter": "python",
   "pygments_lexer": "ipython3",
   "version": "3.6.5"
  }
 },
 "nbformat": 4,
 "nbformat_minor": 4
}
